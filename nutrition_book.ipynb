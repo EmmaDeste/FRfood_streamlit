{
 "cells": [
  {
   "cell_type": "markdown",
   "id": "dcfd5118",
   "metadata": {},
   "source": [
    "# Importations"
   ]
  },
  {
   "cell_type": "code",
   "execution_count": 1,
   "id": "01acdbbe",
   "metadata": {},
   "outputs": [
    {
     "name": "stdout",
     "output_type": "stream",
     "text": [
      "Requirement already satisfied: pandas in /Users/emma/anaconda3/lib/python3.10/site-packages (1.5.3)\n",
      "Requirement already satisfied: numpy in /Users/emma/anaconda3/lib/python3.10/site-packages (1.23.5)\n",
      "Requirement already satisfied: matplotlib in /Users/emma/anaconda3/lib/python3.10/site-packages (3.7.0)\n",
      "Requirement already satisfied: seaborn in /Users/emma/anaconda3/lib/python3.10/site-packages (0.12.2)\n",
      "Requirement already satisfied: python-dateutil>=2.8.1 in /Users/emma/anaconda3/lib/python3.10/site-packages (from pandas) (2.8.2)\n",
      "Requirement already satisfied: pytz>=2020.1 in /Users/emma/anaconda3/lib/python3.10/site-packages (from pandas) (2022.7)\n",
      "Requirement already satisfied: contourpy>=1.0.1 in /Users/emma/anaconda3/lib/python3.10/site-packages (from matplotlib) (1.0.5)\n",
      "Requirement already satisfied: packaging>=20.0 in /Users/emma/anaconda3/lib/python3.10/site-packages (from matplotlib) (22.0)\n",
      "Requirement already satisfied: pillow>=6.2.0 in /Users/emma/anaconda3/lib/python3.10/site-packages (from matplotlib) (9.4.0)\n",
      "Requirement already satisfied: kiwisolver>=1.0.1 in /Users/emma/anaconda3/lib/python3.10/site-packages (from matplotlib) (1.4.4)\n",
      "Requirement already satisfied: fonttools>=4.22.0 in /Users/emma/anaconda3/lib/python3.10/site-packages (from matplotlib) (4.25.0)\n",
      "Requirement already satisfied: cycler>=0.10 in /Users/emma/anaconda3/lib/python3.10/site-packages (from matplotlib) (0.11.0)\n",
      "Requirement already satisfied: pyparsing>=2.3.1 in /Users/emma/anaconda3/lib/python3.10/site-packages (from matplotlib) (3.0.9)\n",
      "Requirement already satisfied: six>=1.5 in /Users/emma/anaconda3/lib/python3.10/site-packages (from python-dateutil>=2.8.1->pandas) (1.16.0)\n"
     ]
    }
   ],
   "source": [
    "!pip install pandas numpy matplotlib seaborn"
   ]
  },
  {
   "cell_type": "code",
   "execution_count": 2,
   "id": "831e8ca5",
   "metadata": {},
   "outputs": [],
   "source": [
    "# Librairies I will use for these visualizations\n",
    "import pandas as pd\n",
    "import datetime\n",
    "import matplotlib.pyplot as plt\n",
    "from wordcloud import WordCloud\n",
    "import seaborn as sns\n",
    "\n",
    "import plotly.express as px\n",
    "import altair as alt\n",
    "import bokeh"
   ]
  },
  {
   "cell_type": "code",
   "execution_count": 180,
   "id": "bd0ae07c",
   "metadata": {},
   "outputs": [
    {
     "name": "stderr",
     "output_type": "stream",
     "text": [
      "/var/folders/q1/d_r20k6n23gcyf1gb0c7j0xm0000gn/T/ipykernel_38464/1242481672.py:2: DtypeWarning: Columns (19,31,51) have mixed types. Specify dtype option on import or set low_memory=False.\n",
      "  conso = pd.read_csv(\"conso-compo-alim-vf-mad-datagouv2021.csv\", delimiter=\";\")\n"
     ]
    }
   ],
   "source": [
    "# read the database\n",
    "conso = pd.read_csv(\"conso-compo-alim-vf-mad-datagouv2021.csv\", delimiter=\";\")"
   ]
  },
  {
   "cell_type": "markdown",
   "id": "eab9fdc9",
   "metadata": {},
   "source": [
    "- Perso"
   ]
  },
  {
   "cell_type": "code",
   "execution_count": 186,
   "id": "068dbc00",
   "metadata": {},
   "outputs": [
    {
     "data": {
      "text/html": [
       "<div>\n",
       "<style scoped>\n",
       "    .dataframe tbody tr th:only-of-type {\n",
       "        vertical-align: middle;\n",
       "    }\n",
       "\n",
       "    .dataframe tbody tr th {\n",
       "        vertical-align: top;\n",
       "    }\n",
       "\n",
       "    .dataframe thead th {\n",
       "        text-align: right;\n",
       "    }\n",
       "</style>\n",
       "<table border=\"1\" class=\"dataframe\">\n",
       "  <thead>\n",
       "    <tr style=\"text-align: right;\">\n",
       "      <th></th>\n",
       "      <th>NOIND</th>\n",
       "      <th>occ_hdeb</th>\n",
       "      <th>occ_alim_libelle</th>\n",
       "      <th>aliment_libelle_INCA3</th>\n",
       "      <th>qte_conso</th>\n",
       "      <th>facette_06_libelle</th>\n",
       "      <th>facette_09_libelle</th>\n",
       "      <th>facette_10_libelle</th>\n",
       "      <th>aliment_marque_bio</th>\n",
       "      <th>aet</th>\n",
       "      <th>...</th>\n",
       "      <th>sodium</th>\n",
       "      <th>sel</th>\n",
       "      <th>magnesium</th>\n",
       "      <th>phosphore</th>\n",
       "      <th>potassium</th>\n",
       "      <th>calcium</th>\n",
       "      <th>fer</th>\n",
       "      <th>cuivre</th>\n",
       "      <th>zinc</th>\n",
       "      <th>iode</th>\n",
       "    </tr>\n",
       "  </thead>\n",
       "  <tbody>\n",
       "    <tr>\n",
       "      <th>0</th>\n",
       "      <td>110100101</td>\n",
       "      <td>11:00</td>\n",
       "      <td>eau</td>\n",
       "      <td>eau (du robinet)</td>\n",
       "      <td>147.50</td>\n",
       "      <td>non renseigné</td>\n",
       "      <td>non renseigné</td>\n",
       "      <td>non renseigné</td>\n",
       "      <td>NaN</td>\n",
       "      <td>0.0</td>\n",
       "      <td>...</td>\n",
       "      <td>2.40</td>\n",
       "      <td>0.0076</td>\n",
       "      <td>0.99</td>\n",
       "      <td>0.0</td>\n",
       "      <td>0.73</td>\n",
       "      <td>7.13</td>\n",
       "      <td>0.030</td>\n",
       "      <td>0.017</td>\n",
       "      <td>0.011</td>\n",
       "      <td>0.0</td>\n",
       "    </tr>\n",
       "    <tr>\n",
       "      <th>1</th>\n",
       "      <td>110100101</td>\n",
       "      <td>12:30</td>\n",
       "      <td>jus d orange</td>\n",
       "      <td>jus de fruits 100% pur jus</td>\n",
       "      <td>500.00</td>\n",
       "      <td>orange</td>\n",
       "      <td>non renseigné</td>\n",
       "      <td>préparé par un service de restauration rapide</td>\n",
       "      <td>0.0</td>\n",
       "      <td>45.0</td>\n",
       "      <td>...</td>\n",
       "      <td>4.81</td>\n",
       "      <td>0.0120</td>\n",
       "      <td>9.85</td>\n",
       "      <td>16.2</td>\n",
       "      <td>170.00</td>\n",
       "      <td>0.41</td>\n",
       "      <td>0.068</td>\n",
       "      <td>0.025</td>\n",
       "      <td>0.045</td>\n",
       "      <td>0.7</td>\n",
       "    </tr>\n",
       "    <tr>\n",
       "      <th>2</th>\n",
       "      <td>110100101</td>\n",
       "      <td>12:30</td>\n",
       "      <td>poulet</td>\n",
       "      <td>matière grasse de cuisson n.s.</td>\n",
       "      <td>3.22</td>\n",
       "      <td>non renseigné</td>\n",
       "      <td>non renseigné</td>\n",
       "      <td>non renseigné</td>\n",
       "      <td>NaN</td>\n",
       "      <td>0.0</td>\n",
       "      <td>...</td>\n",
       "      <td>0.00</td>\n",
       "      <td>0.0000</td>\n",
       "      <td>0.00</td>\n",
       "      <td>0.0</td>\n",
       "      <td>0.00</td>\n",
       "      <td>0.00</td>\n",
       "      <td>0.000</td>\n",
       "      <td>0.000</td>\n",
       "      <td>0.000</td>\n",
       "      <td>0.0</td>\n",
       "    </tr>\n",
       "    <tr>\n",
       "      <th>3</th>\n",
       "      <td>110100101</td>\n",
       "      <td>12:30</td>\n",
       "      <td>frites</td>\n",
       "      <td>frite (de pommes de terre) à la friteuse</td>\n",
       "      <td>107.00</td>\n",
       "      <td>non renseigné</td>\n",
       "      <td>non renseigné</td>\n",
       "      <td>préparé par un service de restauration rapide</td>\n",
       "      <td>0.0</td>\n",
       "      <td>267.0</td>\n",
       "      <td>...</td>\n",
       "      <td>29.00</td>\n",
       "      <td>0.0730</td>\n",
       "      <td>23.30</td>\n",
       "      <td>106.0</td>\n",
       "      <td>684.00</td>\n",
       "      <td>23.80</td>\n",
       "      <td>0.900</td>\n",
       "      <td>0.120</td>\n",
       "      <td>0.360</td>\n",
       "      <td>2.5</td>\n",
       "    </tr>\n",
       "    <tr>\n",
       "      <th>4</th>\n",
       "      <td>110100101</td>\n",
       "      <td>12:30</td>\n",
       "      <td>poulet</td>\n",
       "      <td>nugget de poulet</td>\n",
       "      <td>161.00</td>\n",
       "      <td>non renseigné</td>\n",
       "      <td>non renseigné</td>\n",
       "      <td>préparé par un service de restauration classique</td>\n",
       "      <td>NaN</td>\n",
       "      <td>234.0</td>\n",
       "      <td>...</td>\n",
       "      <td>614.00</td>\n",
       "      <td>1.5400</td>\n",
       "      <td>23.00</td>\n",
       "      <td>198.0</td>\n",
       "      <td>247.00</td>\n",
       "      <td>11.00</td>\n",
       "      <td>1.210</td>\n",
       "      <td>0.084</td>\n",
       "      <td>1.580</td>\n",
       "      <td>2.5</td>\n",
       "    </tr>\n",
       "  </tbody>\n",
       "</table>\n",
       "<p>5 rows × 41 columns</p>\n",
       "</div>"
      ],
      "text/plain": [
       "       NOIND occ_hdeb occ_alim_libelle  \\\n",
       "0  110100101    11:00              eau   \n",
       "1  110100101    12:30     jus d orange   \n",
       "2  110100101    12:30           poulet   \n",
       "3  110100101    12:30           frites   \n",
       "4  110100101    12:30           poulet   \n",
       "\n",
       "                      aliment_libelle_INCA3  qte_conso facette_06_libelle  \\\n",
       "0                          eau (du robinet)     147.50      non renseigné   \n",
       "1                jus de fruits 100% pur jus     500.00             orange   \n",
       "2            matière grasse de cuisson n.s.       3.22      non renseigné   \n",
       "3  frite (de pommes de terre) à la friteuse     107.00      non renseigné   \n",
       "4                          nugget de poulet     161.00      non renseigné   \n",
       "\n",
       "  facette_09_libelle                                facette_10_libelle  \\\n",
       "0      non renseigné                                     non renseigné   \n",
       "1      non renseigné     préparé par un service de restauration rapide   \n",
       "2      non renseigné                                     non renseigné   \n",
       "3      non renseigné     préparé par un service de restauration rapide   \n",
       "4      non renseigné  préparé par un service de restauration classique   \n",
       "\n",
       "   aliment_marque_bio    aet  ...  sodium     sel  magnesium  phosphore  \\\n",
       "0                 NaN    0.0  ...    2.40  0.0076       0.99        0.0   \n",
       "1                 0.0   45.0  ...    4.81  0.0120       9.85       16.2   \n",
       "2                 NaN    0.0  ...    0.00  0.0000       0.00        0.0   \n",
       "3                 0.0  267.0  ...   29.00  0.0730      23.30      106.0   \n",
       "4                 NaN  234.0  ...  614.00  1.5400      23.00      198.0   \n",
       "\n",
       "   potassium  calcium    fer  cuivre   zinc  iode  \n",
       "0       0.73     7.13  0.030   0.017  0.011   0.0  \n",
       "1     170.00     0.41  0.068   0.025  0.045   0.7  \n",
       "2       0.00     0.00  0.000   0.000  0.000   0.0  \n",
       "3     684.00    23.80  0.900   0.120  0.360   2.5  \n",
       "4     247.00    11.00  1.210   0.084  1.580   2.5  \n",
       "\n",
       "[5 rows x 41 columns]"
      ]
     },
     "execution_count": 186,
     "metadata": {},
     "output_type": "execute_result"
    }
   ],
   "source": [
    "conso.head()"
   ]
  },
  {
   "cell_type": "code",
   "execution_count": 185,
   "id": "223d2b48",
   "metadata": {},
   "outputs": [
    {
     "data": {
      "text/plain": [
       "(256301, 41)"
      ]
     },
     "execution_count": 185,
     "metadata": {},
     "output_type": "execute_result"
    }
   ],
   "source": [
    "conso.shape"
   ]
  },
  {
   "cell_type": "code",
   "execution_count": 135,
   "id": "75b49936",
   "metadata": {},
   "outputs": [
    {
     "data": {
      "text/plain": [
       "array(['non renseigné', 'préparé par un service de restauration rapide',\n",
       "       'préparé par un service de restauration classique',\n",
       "       'produit par un industriel', 'préparé par un artisan',\n",
       "       'ne connait pas le mode de préparation ou de production de l’aliment',\n",
       "       'préparé maison', 'préparé par la cantine',\n",
       "       'préparé par un distributeur automatique',\n",
       "       'non préparé maison sans précision'], dtype=object)"
      ]
     },
     "execution_count": 135,
     "metadata": {},
     "output_type": "execute_result"
    }
   ],
   "source": [
    "conso['facette_10_libelle'].unique()"
   ]
  },
  {
   "cell_type": "code",
   "execution_count": null,
   "id": "4e5b84eb",
   "metadata": {},
   "outputs": [],
   "source": [
    "conso.iloc[20000, 0:51]"
   ]
  },
  {
   "cell_type": "code",
   "execution_count": 138,
   "id": "f5a679b1",
   "metadata": {},
   "outputs": [
    {
     "data": {
      "text/plain": [
       "4114"
      ]
     },
     "execution_count": 138,
     "metadata": {},
     "output_type": "execute_result"
    }
   ],
   "source": [
    "conso['NOIND'].nunique()"
   ]
  },
  {
   "cell_type": "code",
   "execution_count": null,
   "id": "975a5ed6",
   "metadata": {},
   "outputs": [],
   "source": []
  },
  {
   "cell_type": "code",
   "execution_count": null,
   "id": "2cbe5ecd",
   "metadata": {},
   "outputs": [],
   "source": []
  },
  {
   "cell_type": "code",
   "execution_count": null,
   "id": "39b07b7a",
   "metadata": {},
   "outputs": [],
   "source": []
  },
  {
   "cell_type": "markdown",
   "id": "2a5fb3e5",
   "metadata": {},
   "source": [
    "# Data Transformation"
   ]
  },
  {
   "cell_type": "markdown",
   "id": "a4b4ad04",
   "metadata": {},
   "source": [
    "Only 'Pop3' in the POPULATION column, and only '1' in the aliment_marque_enrichi column, so I delete these column. "
   ]
  },
  {
   "cell_type": "code",
   "execution_count": 181,
   "id": "62c8f1b5",
   "metadata": {},
   "outputs": [],
   "source": [
    "conso = conso.drop('POPULATION', axis=1); # ; pour pas d'output"
   ]
  },
  {
   "cell_type": "code",
   "execution_count": 182,
   "id": "93531413",
   "metadata": {},
   "outputs": [],
   "source": [
    "conso = conso.drop('aliment_marque_enrichi', axis=1);"
   ]
  },
  {
   "cell_type": "markdown",
   "id": "8706eb88",
   "metadata": {},
   "source": [
    "Many columns are not consistent for my analysis"
   ]
  },
  {
   "cell_type": "code",
   "execution_count": 183,
   "id": "122bac8f",
   "metadata": {},
   "outputs": [],
   "source": [
    "columns1 = ['NUM_LIGNE', 'R24_num', 'R24_nombre', 'R24_pond', 'occ_lieu', 'aliment_code_INCA3', 'aliment_code_FX']\n",
    "columns2 = ['occ_type', 'occ_alim_num', 'qte_conso_pond', 'occ_alim_num_seq', 'gpe_INCA3', 'aliment_libelle_FX']\n",
    "columns3 = ['polyols', 'ag_16_0', 'ag_18_0', 'ag_14_0', 'ag_12_0', 'ag_10_0', 'ag_04_0', 'ag_06_0', 'ag_08_0']\n",
    "columns4 = ['agmi', 'ag_18_1_ole', 'agpi', 'ag_18_2_lino', 'ag_18_3_a_lino', 'ag_20_4_ara', 'ag_20_5_epa', 'ag_20_6_dha']\n",
    "columns5 = ['facette_01', 'facette_02', 'facette_03', 'facette_04', 'facette_05', 'facette_06', 'facette_07']\n",
    "columns6 = ['facette_08', 'facette_09', 'facette_10', 'facette_12', 'facette_13', 'facette_14', 'facette_19']\n",
    "columns7 = ['facette_20', 'facette_25', 'facette_27']\n",
    "columns8 = ['facette_12_libelle', 'facette_13_libelle', 'facette_14_libelle', 'facette_25_libelle', 'facette_27_libelle']\n",
    "columns9 = ['aesa', 'manganese']\n",
    "columns10 = ['retinol', 'beta_carotene', 'selenium']\n",
    "columns_to_delete = columns1 + columns2 + columns3 + columns4 + columns5 + columns6 + columns7 + columns8 + columns9 + columns10\n",
    "\n",
    "conso = conso.drop(columns=columns_to_delete)"
   ]
  },
  {
   "cell_type": "markdown",
   "id": "7a34daca",
   "metadata": {},
   "source": [
    "Some columns have more than 75% of the information missing. So I delete these columns."
   ]
  },
  {
   "cell_type": "code",
   "execution_count": null,
   "id": "2cefa6aa",
   "metadata": {},
   "outputs": [],
   "source": [
    "# Calculus formula to know how many % is missing values in the column\n",
    "missing = (conso['facette_02_libelle'] == 'non renseigné').sum()\n",
    "total = conso.shape[0]\n",
    "\n",
    "percentage = (missing * 100) / total\n",
    "print(percentage)"
   ]
  },
  {
   "cell_type": "code",
   "execution_count": 184,
   "id": "12e60a08",
   "metadata": {},
   "outputs": [],
   "source": [
    "columns1 = ['facette_01_libelle', 'facette_02_libelle', 'facette_03_libelle', 'facette_04_libelle']\n",
    "columns2 = ['facette_05_libelle', 'facette_07_libelle', 'facette_08_libelle', 'facette_19_libelle', 'facette_20_libelle']\n",
    "columns_null = columns1 + columns2\n",
    "\n",
    "conso = conso.drop(columns=columns_null)"
   ]
  },
  {
   "cell_type": "code",
   "execution_count": null,
   "id": "4d225221",
   "metadata": {},
   "outputs": [],
   "source": []
  },
  {
   "cell_type": "code",
   "execution_count": null,
   "id": "3f44e63c",
   "metadata": {},
   "outputs": [],
   "source": []
  },
  {
   "cell_type": "code",
   "execution_count": 187,
   "id": "5ad2ac92",
   "metadata": {},
   "outputs": [
    {
     "data": {
      "text/plain": [
       "Index(['NOIND', 'occ_hdeb', 'occ_alim_libelle', 'aliment_libelle_INCA3',\n",
       "       'qte_conso', 'facette_06_libelle', 'facette_09_libelle',\n",
       "       'facette_10_libelle', 'aliment_marque_bio', 'aet', 'proteines',\n",
       "       'glucides', 'sucres', 'amidon', 'fibres', 'acides_organiques',\n",
       "       'lipides', 'ags', 'alcool', 'eau', 'vitamine_b1', 'vitamine_b2',\n",
       "       'vitamine_b3', 'vitamine_b5', 'vitamine_b6', 'vitamine_b9',\n",
       "       'vitamine_b12', 'vitamine_c', 'vitamine_d', 'vitamine_e', 'vitamine_k2',\n",
       "       'sodium', 'sel', 'magnesium', 'phosphore', 'potassium', 'calcium',\n",
       "       'fer', 'cuivre', 'zinc', 'iode'],\n",
       "      dtype='object')"
      ]
     },
     "execution_count": 187,
     "metadata": {},
     "output_type": "execute_result"
    }
   ],
   "source": [
    "conso.columns"
   ]
  },
  {
   "cell_type": "code",
   "execution_count": null,
   "id": "6e58e588",
   "metadata": {},
   "outputs": [],
   "source": []
  },
  {
   "cell_type": "code",
   "execution_count": null,
   "id": "7d2d59c1",
   "metadata": {},
   "outputs": [],
   "source": []
  },
  {
   "cell_type": "code",
   "execution_count": null,
   "id": "1a369dc2",
   "metadata": {},
   "outputs": [],
   "source": []
  },
  {
   "cell_type": "code",
   "execution_count": null,
   "id": "99485458",
   "metadata": {},
   "outputs": [],
   "source": []
  },
  {
   "cell_type": "code",
   "execution_count": null,
   "id": "f96ab3c4",
   "metadata": {},
   "outputs": [],
   "source": []
  },
  {
   "cell_type": "code",
   "execution_count": null,
   "id": "00ca8428",
   "metadata": {},
   "outputs": [],
   "source": []
  },
  {
   "cell_type": "code",
   "execution_count": null,
   "id": "a3c0f7f0",
   "metadata": {},
   "outputs": [],
   "source": []
  },
  {
   "cell_type": "code",
   "execution_count": null,
   "id": "500022db",
   "metadata": {},
   "outputs": [],
   "source": []
  },
  {
   "cell_type": "code",
   "execution_count": null,
   "id": "69982ee5",
   "metadata": {},
   "outputs": [],
   "source": []
  },
  {
   "cell_type": "markdown",
   "id": "4064ea94",
   "metadata": {},
   "source": [
    "# Data Visualization"
   ]
  },
  {
   "cell_type": "markdown",
   "id": "c0aecc41",
   "metadata": {},
   "source": [
    "Ideas: \n",
    "- "
   ]
  },
  {
   "cell_type": "code",
   "execution_count": null,
   "id": "e7ad94df",
   "metadata": {},
   "outputs": [],
   "source": []
  },
  {
   "cell_type": "code",
   "execution_count": null,
   "id": "aeb19130",
   "metadata": {},
   "outputs": [],
   "source": []
  }
 ],
 "metadata": {
  "kernelspec": {
   "display_name": "Python 3 (ipykernel)",
   "language": "python",
   "name": "python3"
  },
  "language_info": {
   "codemirror_mode": {
    "name": "ipython",
    "version": 3
   },
   "file_extension": ".py",
   "mimetype": "text/x-python",
   "name": "python",
   "nbconvert_exporter": "python",
   "pygments_lexer": "ipython3",
   "version": "3.10.9"
  }
 },
 "nbformat": 4,
 "nbformat_minor": 5
}
